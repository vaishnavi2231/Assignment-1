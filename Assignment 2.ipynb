{
 "cells": [
  {
   "cell_type": "markdown",
   "metadata": {},
   "source": [
    "# Assignment 2"
   ]
  },
  {
   "cell_type": "markdown",
   "metadata": {},
   "source": [
    "## Task 1 : "
   ]
  },
  {
   "cell_type": "markdown",
   "metadata": {},
   "source": [
    "### Question 1.1 : "
   ]
  },
  {
   "cell_type": "markdown",
   "metadata": {},
   "source": [
    "Implementing own myreduce() function"
   ]
  },
  {
   "cell_type": "code",
   "execution_count": 3,
   "metadata": {},
   "outputs": [
    {
     "name": "stdout",
     "output_type": "stream",
     "text": [
      "Addition of all numbers:  113\n",
      "Greater Number is :  47\n"
     ]
    }
   ],
   "source": [
    "l=[47,11,42,13]\n",
    "\n",
    "def addition(a,b):\n",
    "    return a+b\n",
    "\n",
    "def greater(a,b):\n",
    "    if a > b:\n",
    "        return a\n",
    "    else :\n",
    "        return b\n",
    "    \n",
    "#you just need to change operations in above function and pass function name to myreduce()\n",
    "def myreduce(funct,seq):\n",
    "    result=seq[0]\n",
    "    for i in range(1,len(seq)):\n",
    "        result=funct(result,seq[i])\n",
    "    return result\n",
    "    \n",
    "print(\"Addition of all numbers: \",myreduce(addition,l))\n",
    "print(\"Greater Number is : \",myreduce(greater,l))"
   ]
  },
  {
   "cell_type": "markdown",
   "metadata": {},
   "source": [
    "### Question 1.2 :"
   ]
  },
  {
   "cell_type": "markdown",
   "metadata": {},
   "source": [
    "Implementing own myfilter() function"
   ]
  },
  {
   "cell_type": "code",
   "execution_count": 4,
   "metadata": {},
   "outputs": [
    {
     "name": "stdout",
     "output_type": "stream",
     "text": [
      "Even Numbers are :  [2, 4, 6, 8, 10, 12, 14, 16, 18]\n"
     ]
    }
   ],
   "source": [
    "l=range(20)\n",
    "final_list=[]\n",
    "def even_check(num):\n",
    "    if num%2 == 0:\n",
    "        return True\n",
    "    \n",
    "def myfilter(funct,seq):\n",
    "    for i in range(1,len(seq)):\n",
    "        result=funct(seq[i])\n",
    "        if result == True:\n",
    "            final_list.append(seq[i])\n",
    "    return final_list\n",
    "\n",
    "\n",
    "print(\"Even Numbers are : \", myfilter(even_check,l))"
   ]
  },
  {
   "cell_type": "markdown",
   "metadata": {},
   "source": [
    "### Question 2 :"
   ]
  },
  {
   "cell_type": "markdown",
   "metadata": {},
   "source": [
    "Implement list comprehension"
   ]
  },
  {
   "cell_type": "code",
   "execution_count": 11,
   "metadata": {},
   "outputs": [
    {
     "name": "stdout",
     "output_type": "stream",
     "text": [
      "['A', 'C', 'A', 'D', 'G', 'I', 'L', 'D'] \n",
      "\n",
      "['X', 'XX', 'XXX', 'XXXX', 'Y', 'YY', 'YYY', 'YYYY', 'Z', 'ZZ', 'ZZZ', 'ZZZZ'] \n",
      "\n",
      "['X', 'Y', 'Z', 'XX', 'YY', 'ZZ', 'XXX', 'YYY', 'ZZZ', 'XXXX', 'YYYY', 'ZZZZ'] \n",
      "\n",
      "[[2], [3], [4], [3], [4], [5], [4], [5], [6]] \n",
      "\n",
      "[[2, 3, 4, 5], [3, 4, 5, 6], [4, 5, 6, 7], [5, 6, 7, 8]] \n",
      "\n",
      "[(1, 1), (2, 1), (3, 1), (1, 2), (2, 2), (3, 2), (1, 3), (2, 3), (3, 3)]\n"
     ]
    }
   ],
   "source": [
    "l1 ='ACADGILD'\n",
    "f1=[ a for a in l1 ]\n",
    "print(f1,'\\n')\n",
    "\n",
    "l2='XYZ'\n",
    "f2=[a*i for a in l2 for i in range(1,5)]\n",
    "print(f2,'\\n')\n",
    "\n",
    "f3=[a*i for i in range(1,5) for a in l2 ]\n",
    "print(f3,'\\n')\n",
    "\n",
    "f4=[[i] for a in range(2,5) for i in range(a,a+3)]\n",
    "print(f4,'\\n')\n",
    "\n",
    "f5=[[k for k in range(i,i+4)] for i in range(2,6)]\n",
    "print(f5,'\\n')\n",
    "\n",
    "f6=[(j,i) for i in range(1,4) for j in range(1,4)]\n",
    "print(f6)"
   ]
  },
  {
   "cell_type": "markdown",
   "metadata": {},
   "source": [
    "### Question 3 :\n"
   ]
  },
  {
   "cell_type": "markdown",
   "metadata": {},
   "source": [
    "Implementing longestWod() function"
   ]
  },
  {
   "cell_type": "code",
   "execution_count": 6,
   "metadata": {},
   "outputs": [
    {
     "data": {
      "text/plain": [
       "'Python Program'"
      ]
     },
     "execution_count": 6,
     "metadata": {},
     "output_type": "execute_result"
    }
   ],
   "source": [
    "l=[\"Hello\",\"Welcome\",\"to\",\"Python Program\"]\n",
    "\n",
    "def longestWord(seq):\n",
    "    max1=seq[0]\n",
    "    for i in range(1,len(seq)):\n",
    "           if len(max1) < len(seq[i]):\n",
    "                max1 = seq[i]\n",
    "    return max1\n",
    "        \n",
    "longestWord(l)"
   ]
  },
  {
   "cell_type": "markdown",
   "metadata": {},
   "source": [
    "## Task 2 :\n"
   ]
  },
  {
   "cell_type": "markdown",
   "metadata": {},
   "source": [
    "### Question 1.1"
   ]
  },
  {
   "cell_type": "markdown",
   "metadata": {},
   "source": [
    "Calculating area of triangle using class concept"
   ]
  },
  {
   "cell_type": "code",
   "execution_count": 1,
   "metadata": {},
   "outputs": [
    {
     "name": "stdout",
     "output_type": "stream",
     "text": [
      "Area of Triangle is : 42.42640687119285\n"
     ]
    }
   ],
   "source": [
    "class Triangle:\n",
    "    \n",
    "    def __init__(self,s1,s2,s3):\n",
    "        self.a=s1\n",
    "        self.b=s2\n",
    "        self.c=s3\n",
    "        \n",
    "        \n",
    "class Area( Triangle ):\n",
    "    \n",
    "    def __init__(self,x,y,z):\n",
    "        Triangle.__init__(self,x,y,z)\n",
    "        \n",
    "    def get_area(self):\n",
    "        s=(self.a+self.b+self.c)/2\n",
    "        A=((s*(s-self.a)*(s-self.b)*(s-self.c)) ** 0.5)\n",
    "        return(A)\n",
    "    \n",
    "a1=Area(9,10,11)\n",
    "print(\"Area of Triangle is :\",a1.get_area())\n",
    "        "
   ]
  },
  {
   "cell_type": "markdown",
   "metadata": {},
   "source": [
    "### Question 1.2"
   ]
  },
  {
   "cell_type": "markdown",
   "metadata": {},
   "source": [
    "Implementing Longest_word greater than N size"
   ]
  },
  {
   "cell_type": "code",
   "execution_count": 3,
   "metadata": {},
   "outputs": [
    {
     "name": "stdout",
     "output_type": "stream",
     "text": [
      "Words greater than N are :  ['Welcome', 'Programming']\n"
     ]
    }
   ],
   "source": [
    "L=[\"hi\",\"hello\",\"Welcome\",\"To\",\"Programming\"]\n",
    "final_list=[]\n",
    "def filter_long_words(seq,num):\n",
    "    for i in seq:\n",
    "        if len(i)>num:\n",
    "            final_list.append(i)\n",
    "    return final_list\n",
    "\n",
    "print(\"Words greater than N are : \",filter_long_words(L,5))"
   ]
  },
  {
   "cell_type": "markdown",
   "metadata": {},
   "source": [
    "### Question 2.1"
   ]
  },
  {
   "cell_type": "markdown",
   "metadata": {},
   "source": [
    "Mapping list of words into a list of integers"
   ]
  },
  {
   "cell_type": "code",
   "execution_count": 4,
   "metadata": {},
   "outputs": [
    {
     "name": "stdout",
     "output_type": "stream",
     "text": [
      "Length of strinds are :  [2, 5, 7, 2, 11]\n"
     ]
    }
   ],
   "source": [
    "L=[\"hi\",\"hello\",\"Welcome\",\"To\",\"Programming\"]\n",
    "final=[]\n",
    "\n",
    "\n",
    "def calculate_len(seq):\n",
    "    final.extend(len(i) for i in seq)\n",
    "    return(final)\n",
    "    \n",
    "\n",
    "print(\"Length of strinds are : \",calculate_len(L))\n"
   ]
  },
  {
   "cell_type": "markdown",
   "metadata": {},
   "source": [
    "### Question 2.2 "
   ]
  },
  {
   "cell_type": "markdown",
   "metadata": {},
   "source": [
    "Finding vowels "
   ]
  },
  {
   "cell_type": "code",
   "execution_count": 5,
   "metadata": {},
   "outputs": [
    {
     "data": {
      "text/plain": [
       "True"
      ]
     },
     "execution_count": 5,
     "metadata": {},
     "output_type": "execute_result"
    }
   ],
   "source": [
    "l=['a','e','i','o','u']\n",
    "\n",
    "def get_vowels(char):\n",
    "    return(True if(char.casefold() in l) else False)\n",
    "\n",
    "get_vowels(\"a\")\n",
    "    "
   ]
  }
 ],
 "metadata": {
  "kernelspec": {
   "display_name": "Python 3",
   "language": "python",
   "name": "python3"
  },
  "language_info": {
   "codemirror_mode": {
    "name": "ipython",
    "version": 3
   },
   "file_extension": ".py",
   "mimetype": "text/x-python",
   "name": "python",
   "nbconvert_exporter": "python",
   "pygments_lexer": "ipython3",
   "version": "3.7.6"
  }
 },
 "nbformat": 4,
 "nbformat_minor": 4
}
